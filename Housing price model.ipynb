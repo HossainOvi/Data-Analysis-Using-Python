{
    "cells": [
        {
            "cell_type": "markdown",
            "metadata": {},
            "source": " <a href=\"https://www.bigdatauniversity.com\"><img src = \"https://ibm.box.com/shared/static/ugcqz6ohbvff804xp84y4kqnvvk3bq1g.png\" width = 300, align = \"center\"></a>\n\n<h1 align=center><font size = 5>Data Analysis with Python</font></h1>"
        },
        {
            "cell_type": "markdown",
            "metadata": {},
            "source": "# House Sales in King County, USA"
        },
        {
            "cell_type": "markdown",
            "metadata": {},
            "source": "This dataset contains house sale prices for King County, which includes Seattle. It includes homes sold between May 2014 and May 2015."
        },
        {
            "cell_type": "markdown",
            "metadata": {},
            "source": "<b>id</b> : A notation for a house\n\n<b> date</b>: Date house was sold\n\n\n<b>price</b>: Price is prediction target\n\n\n<b>bedrooms</b>: Number of bedrooms\n\n\n<b>bathrooms</b>: Number of bathrooms\n\n<b>sqft_living</b>: Square footage of the home\n\n<b>sqft_lot</b>: Square footage of the lot\n\n\n<b>floors</b> :Total floors (levels) in house\n\n\n<b>waterfront</b> :House which has a view to a waterfront\n\n\n<b>view</b>: Has been viewed\n\n\n<b>condition</b> :How good the condition is overall\n\n<b>grade</b>: overall grade given to the housing unit, based on King County grading system\n\n\n<b>sqft_above</b> : Square footage of house apart from basement\n\n\n<b>sqft_basement</b>: Square footage of the basement\n\n<b>yr_built</b> : Built Year\n\n\n<b>yr_renovated</b> : Year when house was renovated\n\n<b>zipcode</b>: Zip code\n\n\n<b>lat</b>: Latitude coordinate\n\n<b>long</b>: Longitude coordinate\n\n<b>sqft_living15</b> : Living room area in 2015(implies-- some renovations) This might or might not have affected the lotsize area\n\n\n<b>sqft_lot15</b> : LotSize area in 2015(implies-- some renovations)"
        },
        {
            "cell_type": "markdown",
            "metadata": {},
            "source": "You will require the following libraries: "
        },
        {
            "cell_type": "code",
            "execution_count": 1,
            "metadata": {},
            "outputs": [],
            "source": "import pandas as pd\nimport matplotlib.pyplot as plt\nimport numpy as np\nimport seaborn as sns\nfrom sklearn.pipeline import Pipeline\nfrom sklearn.preprocessing import StandardScaler,PolynomialFeatures\nfrom sklearn.linear_model import LinearRegression\n%matplotlib inline"
        },
        {
            "cell_type": "markdown",
            "metadata": {},
            "source": "# Module 1: Importing Data Sets "
        },
        {
            "cell_type": "markdown",
            "metadata": {},
            "source": " Load the csv:  "
        },
        {
            "cell_type": "code",
            "execution_count": 2,
            "metadata": {
                "jupyter": {
                    "outputs_hidden": false
                }
            },
            "outputs": [],
            "source": "file_name='https://s3-api.us-geo.objectstorage.softlayer.net/cf-courses-data/CognitiveClass/DA0101EN/coursera/project/kc_house_data_NaN.csv'\ndf=pd.read_csv(file_name)"
        },
        {
            "cell_type": "markdown",
            "metadata": {},
            "source": "\nWe use the method <code>head</code> to display the first 5 columns of the dataframe."
        },
        {
            "cell_type": "code",
            "execution_count": 21,
            "metadata": {},
            "outputs": [
                {
                    "data": {
                        "text/html": "<div>\n<style scoped>\n    .dataframe tbody tr th:only-of-type {\n        vertical-align: middle;\n    }\n\n    .dataframe tbody tr th {\n        vertical-align: top;\n    }\n\n    .dataframe thead th {\n        text-align: right;\n    }\n</style>\n<table border=\"1\" class=\"dataframe\">\n  <thead>\n    <tr style=\"text-align: right;\">\n      <th></th>\n      <th>date</th>\n      <th>price</th>\n      <th>bedrooms</th>\n      <th>bathrooms</th>\n      <th>sqft_living</th>\n      <th>sqft_lot</th>\n      <th>floors</th>\n      <th>waterfront</th>\n      <th>view</th>\n      <th>condition</th>\n      <th>grade</th>\n      <th>sqft_above</th>\n      <th>sqft_basement</th>\n      <th>yr_built</th>\n      <th>yr_renovated</th>\n      <th>zipcode</th>\n      <th>lat</th>\n      <th>long</th>\n      <th>sqft_living15</th>\n      <th>sqft_lot15</th>\n    </tr>\n  </thead>\n  <tbody>\n    <tr>\n      <th>0</th>\n      <td>20141013T000000</td>\n      <td>221900.0</td>\n      <td>3.0</td>\n      <td>1.00</td>\n      <td>1180</td>\n      <td>5650</td>\n      <td>1.0</td>\n      <td>0</td>\n      <td>0</td>\n      <td>3</td>\n      <td>7</td>\n      <td>1180</td>\n      <td>0</td>\n      <td>1955</td>\n      <td>0</td>\n      <td>98178</td>\n      <td>47.5112</td>\n      <td>-122.257</td>\n      <td>1340</td>\n      <td>5650</td>\n    </tr>\n    <tr>\n      <th>1</th>\n      <td>20141209T000000</td>\n      <td>538000.0</td>\n      <td>3.0</td>\n      <td>2.25</td>\n      <td>2570</td>\n      <td>7242</td>\n      <td>2.0</td>\n      <td>0</td>\n      <td>0</td>\n      <td>3</td>\n      <td>7</td>\n      <td>2170</td>\n      <td>400</td>\n      <td>1951</td>\n      <td>1991</td>\n      <td>98125</td>\n      <td>47.7210</td>\n      <td>-122.319</td>\n      <td>1690</td>\n      <td>7639</td>\n    </tr>\n    <tr>\n      <th>2</th>\n      <td>20150225T000000</td>\n      <td>180000.0</td>\n      <td>2.0</td>\n      <td>1.00</td>\n      <td>770</td>\n      <td>10000</td>\n      <td>1.0</td>\n      <td>0</td>\n      <td>0</td>\n      <td>3</td>\n      <td>6</td>\n      <td>770</td>\n      <td>0</td>\n      <td>1933</td>\n      <td>0</td>\n      <td>98028</td>\n      <td>47.7379</td>\n      <td>-122.233</td>\n      <td>2720</td>\n      <td>8062</td>\n    </tr>\n    <tr>\n      <th>3</th>\n      <td>20141209T000000</td>\n      <td>604000.0</td>\n      <td>4.0</td>\n      <td>3.00</td>\n      <td>1960</td>\n      <td>5000</td>\n      <td>1.0</td>\n      <td>0</td>\n      <td>0</td>\n      <td>5</td>\n      <td>7</td>\n      <td>1050</td>\n      <td>910</td>\n      <td>1965</td>\n      <td>0</td>\n      <td>98136</td>\n      <td>47.5208</td>\n      <td>-122.393</td>\n      <td>1360</td>\n      <td>5000</td>\n    </tr>\n    <tr>\n      <th>4</th>\n      <td>20150218T000000</td>\n      <td>510000.0</td>\n      <td>3.0</td>\n      <td>2.00</td>\n      <td>1680</td>\n      <td>8080</td>\n      <td>1.0</td>\n      <td>0</td>\n      <td>0</td>\n      <td>3</td>\n      <td>8</td>\n      <td>1680</td>\n      <td>0</td>\n      <td>1987</td>\n      <td>0</td>\n      <td>98074</td>\n      <td>47.6168</td>\n      <td>-122.045</td>\n      <td>1800</td>\n      <td>7503</td>\n    </tr>\n    <tr>\n      <th>5</th>\n      <td>20140512T000000</td>\n      <td>1225000.0</td>\n      <td>4.0</td>\n      <td>4.50</td>\n      <td>5420</td>\n      <td>101930</td>\n      <td>1.0</td>\n      <td>0</td>\n      <td>0</td>\n      <td>3</td>\n      <td>11</td>\n      <td>3890</td>\n      <td>1530</td>\n      <td>2001</td>\n      <td>0</td>\n      <td>98053</td>\n      <td>47.6561</td>\n      <td>-122.005</td>\n      <td>4760</td>\n      <td>101930</td>\n    </tr>\n    <tr>\n      <th>6</th>\n      <td>20140627T000000</td>\n      <td>257500.0</td>\n      <td>3.0</td>\n      <td>2.25</td>\n      <td>1715</td>\n      <td>6819</td>\n      <td>2.0</td>\n      <td>0</td>\n      <td>0</td>\n      <td>3</td>\n      <td>7</td>\n      <td>1715</td>\n      <td>0</td>\n      <td>1995</td>\n      <td>0</td>\n      <td>98003</td>\n      <td>47.3097</td>\n      <td>-122.327</td>\n      <td>2238</td>\n      <td>6819</td>\n    </tr>\n    <tr>\n      <th>7</th>\n      <td>20150115T000000</td>\n      <td>291850.0</td>\n      <td>3.0</td>\n      <td>1.50</td>\n      <td>1060</td>\n      <td>9711</td>\n      <td>1.0</td>\n      <td>0</td>\n      <td>0</td>\n      <td>3</td>\n      <td>7</td>\n      <td>1060</td>\n      <td>0</td>\n      <td>1963</td>\n      <td>0</td>\n      <td>98198</td>\n      <td>47.4095</td>\n      <td>-122.315</td>\n      <td>1650</td>\n      <td>9711</td>\n    </tr>\n    <tr>\n      <th>8</th>\n      <td>20150415T000000</td>\n      <td>229500.0</td>\n      <td>3.0</td>\n      <td>1.00</td>\n      <td>1780</td>\n      <td>7470</td>\n      <td>1.0</td>\n      <td>0</td>\n      <td>0</td>\n      <td>3</td>\n      <td>7</td>\n      <td>1050</td>\n      <td>730</td>\n      <td>1960</td>\n      <td>0</td>\n      <td>98146</td>\n      <td>47.5123</td>\n      <td>-122.337</td>\n      <td>1780</td>\n      <td>8113</td>\n    </tr>\n    <tr>\n      <th>9</th>\n      <td>20150312T000000</td>\n      <td>323000.0</td>\n      <td>3.0</td>\n      <td>2.50</td>\n      <td>1890</td>\n      <td>6560</td>\n      <td>2.0</td>\n      <td>0</td>\n      <td>0</td>\n      <td>3</td>\n      <td>7</td>\n      <td>1890</td>\n      <td>0</td>\n      <td>2003</td>\n      <td>0</td>\n      <td>98038</td>\n      <td>47.3684</td>\n      <td>-122.031</td>\n      <td>2390</td>\n      <td>7570</td>\n    </tr>\n    <tr>\n      <th>10</th>\n      <td>20150403T000000</td>\n      <td>662500.0</td>\n      <td>3.0</td>\n      <td>2.50</td>\n      <td>3560</td>\n      <td>9796</td>\n      <td>1.0</td>\n      <td>0</td>\n      <td>0</td>\n      <td>3</td>\n      <td>8</td>\n      <td>1860</td>\n      <td>1700</td>\n      <td>1965</td>\n      <td>0</td>\n      <td>98007</td>\n      <td>47.6007</td>\n      <td>-122.145</td>\n      <td>2210</td>\n      <td>8925</td>\n    </tr>\n    <tr>\n      <th>11</th>\n      <td>20140527T000000</td>\n      <td>468000.0</td>\n      <td>2.0</td>\n      <td>1.00</td>\n      <td>1160</td>\n      <td>6000</td>\n      <td>1.0</td>\n      <td>0</td>\n      <td>0</td>\n      <td>4</td>\n      <td>7</td>\n      <td>860</td>\n      <td>300</td>\n      <td>1942</td>\n      <td>0</td>\n      <td>98115</td>\n      <td>47.6900</td>\n      <td>-122.292</td>\n      <td>1330</td>\n      <td>6000</td>\n    </tr>\n    <tr>\n      <th>12</th>\n      <td>20140528T000000</td>\n      <td>310000.0</td>\n      <td>3.0</td>\n      <td>1.00</td>\n      <td>1430</td>\n      <td>19901</td>\n      <td>1.5</td>\n      <td>0</td>\n      <td>0</td>\n      <td>4</td>\n      <td>7</td>\n      <td>1430</td>\n      <td>0</td>\n      <td>1927</td>\n      <td>0</td>\n      <td>98028</td>\n      <td>47.7558</td>\n      <td>-122.229</td>\n      <td>1780</td>\n      <td>12697</td>\n    </tr>\n    <tr>\n      <th>13</th>\n      <td>20141007T000000</td>\n      <td>400000.0</td>\n      <td>3.0</td>\n      <td>1.75</td>\n      <td>1370</td>\n      <td>9680</td>\n      <td>1.0</td>\n      <td>0</td>\n      <td>0</td>\n      <td>4</td>\n      <td>7</td>\n      <td>1370</td>\n      <td>0</td>\n      <td>1977</td>\n      <td>0</td>\n      <td>98074</td>\n      <td>47.6127</td>\n      <td>-122.045</td>\n      <td>1370</td>\n      <td>10208</td>\n    </tr>\n    <tr>\n      <th>14</th>\n      <td>20150312T000000</td>\n      <td>530000.0</td>\n      <td>5.0</td>\n      <td>2.00</td>\n      <td>1810</td>\n      <td>4850</td>\n      <td>1.5</td>\n      <td>0</td>\n      <td>0</td>\n      <td>3</td>\n      <td>7</td>\n      <td>1810</td>\n      <td>0</td>\n      <td>1900</td>\n      <td>0</td>\n      <td>98107</td>\n      <td>47.6700</td>\n      <td>-122.394</td>\n      <td>1360</td>\n      <td>4850</td>\n    </tr>\n    <tr>\n      <th>15</th>\n      <td>20150124T000000</td>\n      <td>650000.0</td>\n      <td>4.0</td>\n      <td>3.00</td>\n      <td>2950</td>\n      <td>5000</td>\n      <td>2.0</td>\n      <td>0</td>\n      <td>3</td>\n      <td>3</td>\n      <td>9</td>\n      <td>1980</td>\n      <td>970</td>\n      <td>1979</td>\n      <td>0</td>\n      <td>98126</td>\n      <td>47.5714</td>\n      <td>-122.375</td>\n      <td>2140</td>\n      <td>4000</td>\n    </tr>\n    <tr>\n      <th>16</th>\n      <td>20140731T000000</td>\n      <td>395000.0</td>\n      <td>3.0</td>\n      <td>2.00</td>\n      <td>1890</td>\n      <td>14040</td>\n      <td>2.0</td>\n      <td>0</td>\n      <td>0</td>\n      <td>3</td>\n      <td>7</td>\n      <td>1890</td>\n      <td>0</td>\n      <td>1994</td>\n      <td>0</td>\n      <td>98019</td>\n      <td>47.7277</td>\n      <td>-121.962</td>\n      <td>1890</td>\n      <td>14018</td>\n    </tr>\n    <tr>\n      <th>17</th>\n      <td>20140529T000000</td>\n      <td>485000.0</td>\n      <td>4.0</td>\n      <td>1.00</td>\n      <td>1600</td>\n      <td>4300</td>\n      <td>1.5</td>\n      <td>0</td>\n      <td>0</td>\n      <td>4</td>\n      <td>7</td>\n      <td>1600</td>\n      <td>0</td>\n      <td>1916</td>\n      <td>0</td>\n      <td>98103</td>\n      <td>47.6648</td>\n      <td>-122.343</td>\n      <td>1610</td>\n      <td>4300</td>\n    </tr>\n    <tr>\n      <th>18</th>\n      <td>20141205T000000</td>\n      <td>189000.0</td>\n      <td>2.0</td>\n      <td>1.00</td>\n      <td>1200</td>\n      <td>9850</td>\n      <td>1.0</td>\n      <td>0</td>\n      <td>0</td>\n      <td>4</td>\n      <td>7</td>\n      <td>1200</td>\n      <td>0</td>\n      <td>1921</td>\n      <td>0</td>\n      <td>98002</td>\n      <td>47.3089</td>\n      <td>-122.210</td>\n      <td>1060</td>\n      <td>5095</td>\n    </tr>\n    <tr>\n      <th>19</th>\n      <td>20150424T000000</td>\n      <td>230000.0</td>\n      <td>3.0</td>\n      <td>1.00</td>\n      <td>1250</td>\n      <td>9774</td>\n      <td>1.0</td>\n      <td>0</td>\n      <td>0</td>\n      <td>4</td>\n      <td>7</td>\n      <td>1250</td>\n      <td>0</td>\n      <td>1969</td>\n      <td>0</td>\n      <td>98003</td>\n      <td>47.3343</td>\n      <td>-122.306</td>\n      <td>1280</td>\n      <td>8850</td>\n    </tr>\n    <tr>\n      <th>20</th>\n      <td>20140514T000000</td>\n      <td>385000.0</td>\n      <td>4.0</td>\n      <td>1.75</td>\n      <td>1620</td>\n      <td>4980</td>\n      <td>1.0</td>\n      <td>0</td>\n      <td>0</td>\n      <td>4</td>\n      <td>7</td>\n      <td>860</td>\n      <td>760</td>\n      <td>1947</td>\n      <td>0</td>\n      <td>98133</td>\n      <td>47.7025</td>\n      <td>-122.341</td>\n      <td>1400</td>\n      <td>4980</td>\n    </tr>\n    <tr>\n      <th>21</th>\n      <td>20140826T000000</td>\n      <td>2000000.0</td>\n      <td>3.0</td>\n      <td>2.75</td>\n      <td>3050</td>\n      <td>44867</td>\n      <td>1.0</td>\n      <td>0</td>\n      <td>4</td>\n      <td>3</td>\n      <td>9</td>\n      <td>2330</td>\n      <td>720</td>\n      <td>1968</td>\n      <td>0</td>\n      <td>98040</td>\n      <td>47.5316</td>\n      <td>-122.233</td>\n      <td>4110</td>\n      <td>20336</td>\n    </tr>\n    <tr>\n      <th>22</th>\n      <td>20140703T000000</td>\n      <td>285000.0</td>\n      <td>5.0</td>\n      <td>2.50</td>\n      <td>2270</td>\n      <td>6300</td>\n      <td>2.0</td>\n      <td>0</td>\n      <td>0</td>\n      <td>3</td>\n      <td>8</td>\n      <td>2270</td>\n      <td>0</td>\n      <td>1995</td>\n      <td>0</td>\n      <td>98092</td>\n      <td>47.3266</td>\n      <td>-122.169</td>\n      <td>2240</td>\n      <td>7005</td>\n    </tr>\n    <tr>\n      <th>23</th>\n      <td>20140516T000000</td>\n      <td>252700.0</td>\n      <td>2.0</td>\n      <td>1.50</td>\n      <td>1070</td>\n      <td>9643</td>\n      <td>1.0</td>\n      <td>0</td>\n      <td>0</td>\n      <td>3</td>\n      <td>7</td>\n      <td>1070</td>\n      <td>0</td>\n      <td>1985</td>\n      <td>0</td>\n      <td>98030</td>\n      <td>47.3533</td>\n      <td>-122.166</td>\n      <td>1220</td>\n      <td>8386</td>\n    </tr>\n    <tr>\n      <th>24</th>\n      <td>20141120T000000</td>\n      <td>329000.0</td>\n      <td>3.0</td>\n      <td>2.25</td>\n      <td>2450</td>\n      <td>6500</td>\n      <td>2.0</td>\n      <td>0</td>\n      <td>0</td>\n      <td>4</td>\n      <td>8</td>\n      <td>2450</td>\n      <td>0</td>\n      <td>1985</td>\n      <td>0</td>\n      <td>98030</td>\n      <td>47.3739</td>\n      <td>-122.172</td>\n      <td>2200</td>\n      <td>6865</td>\n    </tr>\n    <tr>\n      <th>25</th>\n      <td>20141103T000000</td>\n      <td>233000.0</td>\n      <td>3.0</td>\n      <td>2.00</td>\n      <td>1710</td>\n      <td>4697</td>\n      <td>1.5</td>\n      <td>0</td>\n      <td>0</td>\n      <td>5</td>\n      <td>6</td>\n      <td>1710</td>\n      <td>0</td>\n      <td>1941</td>\n      <td>0</td>\n      <td>98002</td>\n      <td>47.3048</td>\n      <td>-122.218</td>\n      <td>1030</td>\n      <td>4705</td>\n    </tr>\n    <tr>\n      <th>26</th>\n      <td>20140626T000000</td>\n      <td>937000.0</td>\n      <td>3.0</td>\n      <td>1.75</td>\n      <td>2450</td>\n      <td>2691</td>\n      <td>2.0</td>\n      <td>0</td>\n      <td>0</td>\n      <td>3</td>\n      <td>8</td>\n      <td>1750</td>\n      <td>700</td>\n      <td>1915</td>\n      <td>0</td>\n      <td>98119</td>\n      <td>47.6386</td>\n      <td>-122.360</td>\n      <td>1760</td>\n      <td>3573</td>\n    </tr>\n    <tr>\n      <th>27</th>\n      <td>20141201T000000</td>\n      <td>667000.0</td>\n      <td>3.0</td>\n      <td>1.00</td>\n      <td>1400</td>\n      <td>1581</td>\n      <td>1.5</td>\n      <td>0</td>\n      <td>0</td>\n      <td>5</td>\n      <td>8</td>\n      <td>1400</td>\n      <td>0</td>\n      <td>1909</td>\n      <td>0</td>\n      <td>98112</td>\n      <td>47.6221</td>\n      <td>-122.314</td>\n      <td>1860</td>\n      <td>3861</td>\n    </tr>\n    <tr>\n      <th>28</th>\n      <td>20140624T000000</td>\n      <td>438000.0</td>\n      <td>3.0</td>\n      <td>1.75</td>\n      <td>1520</td>\n      <td>6380</td>\n      <td>1.0</td>\n      <td>0</td>\n      <td>0</td>\n      <td>3</td>\n      <td>7</td>\n      <td>790</td>\n      <td>730</td>\n      <td>1948</td>\n      <td>0</td>\n      <td>98115</td>\n      <td>47.6950</td>\n      <td>-122.304</td>\n      <td>1520</td>\n      <td>6235</td>\n    </tr>\n    <tr>\n      <th>29</th>\n      <td>20150302T000000</td>\n      <td>719000.0</td>\n      <td>4.0</td>\n      <td>2.50</td>\n      <td>2570</td>\n      <td>7173</td>\n      <td>2.0</td>\n      <td>0</td>\n      <td>0</td>\n      <td>3</td>\n      <td>8</td>\n      <td>2570</td>\n      <td>0</td>\n      <td>2005</td>\n      <td>0</td>\n      <td>98052</td>\n      <td>47.7073</td>\n      <td>-122.110</td>\n      <td>2630</td>\n      <td>6026</td>\n    </tr>\n    <tr>\n      <th>30</th>\n      <td>20141110T000000</td>\n      <td>580500.0</td>\n      <td>3.0</td>\n      <td>2.50</td>\n      <td>2320</td>\n      <td>3980</td>\n      <td>2.0</td>\n      <td>0</td>\n      <td>0</td>\n      <td>3</td>\n      <td>8</td>\n      <td>2320</td>\n      <td>0</td>\n      <td>2003</td>\n      <td>0</td>\n      <td>98027</td>\n      <td>47.5391</td>\n      <td>-122.070</td>\n      <td>2580</td>\n      <td>3980</td>\n    </tr>\n    <tr>\n      <th>31</th>\n      <td>20141201T000000</td>\n      <td>280000.0</td>\n      <td>2.0</td>\n      <td>1.50</td>\n      <td>1190</td>\n      <td>1265</td>\n      <td>3.0</td>\n      <td>0</td>\n      <td>0</td>\n      <td>3</td>\n      <td>7</td>\n      <td>1190</td>\n      <td>0</td>\n      <td>2005</td>\n      <td>0</td>\n      <td>98133</td>\n      <td>47.7274</td>\n      <td>-122.357</td>\n      <td>1390</td>\n      <td>1756</td>\n    </tr>\n    <tr>\n      <th>32</th>\n      <td>20140624T000000</td>\n      <td>687500.0</td>\n      <td>4.0</td>\n      <td>1.75</td>\n      <td>2330</td>\n      <td>5000</td>\n      <td>1.5</td>\n      <td>0</td>\n      <td>0</td>\n      <td>4</td>\n      <td>7</td>\n      <td>1510</td>\n      <td>820</td>\n      <td>1929</td>\n      <td>0</td>\n      <td>98117</td>\n      <td>47.6823</td>\n      <td>-122.368</td>\n      <td>1460</td>\n      <td>5000</td>\n    </tr>\n    <tr>\n      <th>33</th>\n      <td>20141110T000000</td>\n      <td>535000.0</td>\n      <td>3.0</td>\n      <td>1.00</td>\n      <td>1090</td>\n      <td>3000</td>\n      <td>1.5</td>\n      <td>0</td>\n      <td>0</td>\n      <td>4</td>\n      <td>8</td>\n      <td>1090</td>\n      <td>0</td>\n      <td>1929</td>\n      <td>0</td>\n      <td>98117</td>\n      <td>47.6889</td>\n      <td>-122.375</td>\n      <td>1570</td>\n      <td>5080</td>\n    </tr>\n    <tr>\n      <th>34</th>\n      <td>20141203T000000</td>\n      <td>322500.0</td>\n      <td>4.0</td>\n      <td>2.75</td>\n      <td>2060</td>\n      <td>6659</td>\n      <td>1.0</td>\n      <td>0</td>\n      <td>0</td>\n      <td>3</td>\n      <td>7</td>\n      <td>1280</td>\n      <td>780</td>\n      <td>1981</td>\n      <td>0</td>\n      <td>98058</td>\n      <td>47.4276</td>\n      <td>-122.157</td>\n      <td>2020</td>\n      <td>8720</td>\n    </tr>\n    <tr>\n      <th>35</th>\n      <td>20140613T000000</td>\n      <td>696000.0</td>\n      <td>3.0</td>\n      <td>2.50</td>\n      <td>2300</td>\n      <td>3060</td>\n      <td>1.5</td>\n      <td>0</td>\n      <td>0</td>\n      <td>3</td>\n      <td>8</td>\n      <td>1510</td>\n      <td>790</td>\n      <td>1930</td>\n      <td>2002</td>\n      <td>98115</td>\n      <td>47.6827</td>\n      <td>-122.310</td>\n      <td>1590</td>\n      <td>3264</td>\n    </tr>\n    <tr>\n      <th>36</th>\n      <td>20140528T000000</td>\n      <td>550000.0</td>\n      <td>4.0</td>\n      <td>1.00</td>\n      <td>1660</td>\n      <td>34848</td>\n      <td>1.0</td>\n      <td>0</td>\n      <td>0</td>\n      <td>1</td>\n      <td>5</td>\n      <td>930</td>\n      <td>730</td>\n      <td>1933</td>\n      <td>0</td>\n      <td>98052</td>\n      <td>47.6621</td>\n      <td>-122.132</td>\n      <td>2160</td>\n      <td>11467</td>\n    </tr>\n    <tr>\n      <th>37</th>\n      <td>20141230T000000</td>\n      <td>640000.0</td>\n      <td>4.0</td>\n      <td>2.00</td>\n      <td>2360</td>\n      <td>6000</td>\n      <td>2.0</td>\n      <td>0</td>\n      <td>0</td>\n      <td>4</td>\n      <td>8</td>\n      <td>2360</td>\n      <td>0</td>\n      <td>1904</td>\n      <td>0</td>\n      <td>98107</td>\n      <td>47.6702</td>\n      <td>-122.362</td>\n      <td>1730</td>\n      <td>4700</td>\n    </tr>\n    <tr>\n      <th>38</th>\n      <td>20150213T000000</td>\n      <td>240000.0</td>\n      <td>4.0</td>\n      <td>1.00</td>\n      <td>1220</td>\n      <td>8075</td>\n      <td>1.0</td>\n      <td>0</td>\n      <td>0</td>\n      <td>2</td>\n      <td>7</td>\n      <td>890</td>\n      <td>330</td>\n      <td>1969</td>\n      <td>0</td>\n      <td>98001</td>\n      <td>47.3341</td>\n      <td>-122.282</td>\n      <td>1290</td>\n      <td>7800</td>\n    </tr>\n    <tr>\n      <th>39</th>\n      <td>20140620T000000</td>\n      <td>605000.0</td>\n      <td>4.0</td>\n      <td>2.50</td>\n      <td>2620</td>\n      <td>7553</td>\n      <td>2.0</td>\n      <td>0</td>\n      <td>0</td>\n      <td>3</td>\n      <td>8</td>\n      <td>2620</td>\n      <td>0</td>\n      <td>1996</td>\n      <td>0</td>\n      <td>98056</td>\n      <td>47.5301</td>\n      <td>-122.180</td>\n      <td>2620</td>\n      <td>11884</td>\n    </tr>\n    <tr>\n      <th>40</th>\n      <td>20140715T000000</td>\n      <td>625000.0</td>\n      <td>4.0</td>\n      <td>2.50</td>\n      <td>2570</td>\n      <td>5520</td>\n      <td>2.0</td>\n      <td>0</td>\n      <td>0</td>\n      <td>3</td>\n      <td>9</td>\n      <td>2570</td>\n      <td>0</td>\n      <td>2000</td>\n      <td>0</td>\n      <td>98074</td>\n      <td>47.6145</td>\n      <td>-122.027</td>\n      <td>2470</td>\n      <td>5669</td>\n    </tr>\n    <tr>\n      <th>41</th>\n      <td>20140811T000000</td>\n      <td>775000.0</td>\n      <td>4.0</td>\n      <td>2.25</td>\n      <td>4220</td>\n      <td>24186</td>\n      <td>1.0</td>\n      <td>0</td>\n      <td>0</td>\n      <td>3</td>\n      <td>8</td>\n      <td>2600</td>\n      <td>1620</td>\n      <td>1984</td>\n      <td>0</td>\n      <td>98166</td>\n      <td>47.4450</td>\n      <td>-122.347</td>\n      <td>2410</td>\n      <td>30617</td>\n    </tr>\n    <tr>\n      <th>42</th>\n      <td>20140707T000000</td>\n      <td>861990.0</td>\n      <td>5.0</td>\n      <td>2.75</td>\n      <td>3595</td>\n      <td>5639</td>\n      <td>2.0</td>\n      <td>0</td>\n      <td>0</td>\n      <td>3</td>\n      <td>9</td>\n      <td>3595</td>\n      <td>0</td>\n      <td>2014</td>\n      <td>0</td>\n      <td>98053</td>\n      <td>47.6848</td>\n      <td>-122.016</td>\n      <td>3625</td>\n      <td>5639</td>\n    </tr>\n    <tr>\n      <th>43</th>\n      <td>20141028T000000</td>\n      <td>685000.0</td>\n      <td>3.0</td>\n      <td>1.00</td>\n      <td>1570</td>\n      <td>2280</td>\n      <td>2.0</td>\n      <td>0</td>\n      <td>0</td>\n      <td>3</td>\n      <td>7</td>\n      <td>1570</td>\n      <td>0</td>\n      <td>1922</td>\n      <td>0</td>\n      <td>98119</td>\n      <td>47.6413</td>\n      <td>-122.364</td>\n      <td>1580</td>\n      <td>2640</td>\n    </tr>\n    <tr>\n      <th>44</th>\n      <td>20140729T000000</td>\n      <td>309000.0</td>\n      <td>3.0</td>\n      <td>1.00</td>\n      <td>1280</td>\n      <td>9656</td>\n      <td>1.0</td>\n      <td>0</td>\n      <td>0</td>\n      <td>4</td>\n      <td>6</td>\n      <td>920</td>\n      <td>360</td>\n      <td>1959</td>\n      <td>0</td>\n      <td>98058</td>\n      <td>47.4485</td>\n      <td>-122.175</td>\n      <td>1340</td>\n      <td>8808</td>\n    </tr>\n    <tr>\n      <th>45</th>\n      <td>20140718T000000</td>\n      <td>488000.0</td>\n      <td>3.0</td>\n      <td>2.50</td>\n      <td>3160</td>\n      <td>13603</td>\n      <td>2.0</td>\n      <td>0</td>\n      <td>0</td>\n      <td>3</td>\n      <td>8</td>\n      <td>3160</td>\n      <td>0</td>\n      <td>2003</td>\n      <td>0</td>\n      <td>98019</td>\n      <td>47.7443</td>\n      <td>-121.977</td>\n      <td>3050</td>\n      <td>9232</td>\n    </tr>\n    <tr>\n      <th>46</th>\n      <td>20150325T000000</td>\n      <td>210490.0</td>\n      <td>3.0</td>\n      <td>1.00</td>\n      <td>990</td>\n      <td>8528</td>\n      <td>1.0</td>\n      <td>0</td>\n      <td>0</td>\n      <td>3</td>\n      <td>6</td>\n      <td>990</td>\n      <td>0</td>\n      <td>1966</td>\n      <td>0</td>\n      <td>98023</td>\n      <td>47.3066</td>\n      <td>-122.371</td>\n      <td>1228</td>\n      <td>8840</td>\n    </tr>\n    <tr>\n      <th>47</th>\n      <td>20140716T000000</td>\n      <td>785000.0</td>\n      <td>4.0</td>\n      <td>2.50</td>\n      <td>2290</td>\n      <td>13416</td>\n      <td>2.0</td>\n      <td>0</td>\n      <td>0</td>\n      <td>4</td>\n      <td>9</td>\n      <td>2290</td>\n      <td>0</td>\n      <td>1981</td>\n      <td>0</td>\n      <td>98007</td>\n      <td>47.6194</td>\n      <td>-122.151</td>\n      <td>2680</td>\n      <td>13685</td>\n    </tr>\n    <tr>\n      <th>48</th>\n      <td>20150428T000000</td>\n      <td>450000.0</td>\n      <td>3.0</td>\n      <td>1.75</td>\n      <td>1250</td>\n      <td>5963</td>\n      <td>1.0</td>\n      <td>0</td>\n      <td>0</td>\n      <td>4</td>\n      <td>7</td>\n      <td>1250</td>\n      <td>0</td>\n      <td>1953</td>\n      <td>0</td>\n      <td>98115</td>\n      <td>47.6796</td>\n      <td>-122.301</td>\n      <td>970</td>\n      <td>5100</td>\n    </tr>\n    <tr>\n      <th>49</th>\n      <td>20150311T000000</td>\n      <td>1350000.0</td>\n      <td>3.0</td>\n      <td>2.50</td>\n      <td>2753</td>\n      <td>65005</td>\n      <td>1.0</td>\n      <td>1</td>\n      <td>2</td>\n      <td>5</td>\n      <td>9</td>\n      <td>2165</td>\n      <td>588</td>\n      <td>1953</td>\n      <td>0</td>\n      <td>98070</td>\n      <td>47.4041</td>\n      <td>-122.451</td>\n      <td>2680</td>\n      <td>72513</td>\n    </tr>\n  </tbody>\n</table>\n</div>",
                        "text/plain": "               date      price  bedrooms  bathrooms  sqft_living  sqft_lot  \\\n0   20141013T000000   221900.0       3.0       1.00         1180      5650   \n1   20141209T000000   538000.0       3.0       2.25         2570      7242   \n2   20150225T000000   180000.0       2.0       1.00          770     10000   \n3   20141209T000000   604000.0       4.0       3.00         1960      5000   \n4   20150218T000000   510000.0       3.0       2.00         1680      8080   \n5   20140512T000000  1225000.0       4.0       4.50         5420    101930   \n6   20140627T000000   257500.0       3.0       2.25         1715      6819   \n7   20150115T000000   291850.0       3.0       1.50         1060      9711   \n8   20150415T000000   229500.0       3.0       1.00         1780      7470   \n9   20150312T000000   323000.0       3.0       2.50         1890      6560   \n10  20150403T000000   662500.0       3.0       2.50         3560      9796   \n11  20140527T000000   468000.0       2.0       1.00         1160      6000   \n12  20140528T000000   310000.0       3.0       1.00         1430     19901   \n13  20141007T000000   400000.0       3.0       1.75         1370      9680   \n14  20150312T000000   530000.0       5.0       2.00         1810      4850   \n15  20150124T000000   650000.0       4.0       3.00         2950      5000   \n16  20140731T000000   395000.0       3.0       2.00         1890     14040   \n17  20140529T000000   485000.0       4.0       1.00         1600      4300   \n18  20141205T000000   189000.0       2.0       1.00         1200      9850   \n19  20150424T000000   230000.0       3.0       1.00         1250      9774   \n20  20140514T000000   385000.0       4.0       1.75         1620      4980   \n21  20140826T000000  2000000.0       3.0       2.75         3050     44867   \n22  20140703T000000   285000.0       5.0       2.50         2270      6300   \n23  20140516T000000   252700.0       2.0       1.50         1070      9643   \n24  20141120T000000   329000.0       3.0       2.25         2450      6500   \n25  20141103T000000   233000.0       3.0       2.00         1710      4697   \n26  20140626T000000   937000.0       3.0       1.75         2450      2691   \n27  20141201T000000   667000.0       3.0       1.00         1400      1581   \n28  20140624T000000   438000.0       3.0       1.75         1520      6380   \n29  20150302T000000   719000.0       4.0       2.50         2570      7173   \n30  20141110T000000   580500.0       3.0       2.50         2320      3980   \n31  20141201T000000   280000.0       2.0       1.50         1190      1265   \n32  20140624T000000   687500.0       4.0       1.75         2330      5000   \n33  20141110T000000   535000.0       3.0       1.00         1090      3000   \n34  20141203T000000   322500.0       4.0       2.75         2060      6659   \n35  20140613T000000   696000.0       3.0       2.50         2300      3060   \n36  20140528T000000   550000.0       4.0       1.00         1660     34848   \n37  20141230T000000   640000.0       4.0       2.00         2360      6000   \n38  20150213T000000   240000.0       4.0       1.00         1220      8075   \n39  20140620T000000   605000.0       4.0       2.50         2620      7553   \n40  20140715T000000   625000.0       4.0       2.50         2570      5520   \n41  20140811T000000   775000.0       4.0       2.25         4220     24186   \n42  20140707T000000   861990.0       5.0       2.75         3595      5639   \n43  20141028T000000   685000.0       3.0       1.00         1570      2280   \n44  20140729T000000   309000.0       3.0       1.00         1280      9656   \n45  20140718T000000   488000.0       3.0       2.50         3160     13603   \n46  20150325T000000   210490.0       3.0       1.00          990      8528   \n47  20140716T000000   785000.0       4.0       2.50         2290     13416   \n48  20150428T000000   450000.0       3.0       1.75         1250      5963   \n49  20150311T000000  1350000.0       3.0       2.50         2753     65005   \n\n    floors  waterfront  view  condition  grade  sqft_above  sqft_basement  \\\n0      1.0           0     0          3      7        1180              0   \n1      2.0           0     0          3      7        2170            400   \n2      1.0           0     0          3      6         770              0   \n3      1.0           0     0          5      7        1050            910   \n4      1.0           0     0          3      8        1680              0   \n5      1.0           0     0          3     11        3890           1530   \n6      2.0           0     0          3      7        1715              0   \n7      1.0           0     0          3      7        1060              0   \n8      1.0           0     0          3      7        1050            730   \n9      2.0           0     0          3      7        1890              0   \n10     1.0           0     0          3      8        1860           1700   \n11     1.0           0     0          4      7         860            300   \n12     1.5           0     0          4      7        1430              0   \n13     1.0           0     0          4      7        1370              0   \n14     1.5           0     0          3      7        1810              0   \n15     2.0           0     3          3      9        1980            970   \n16     2.0           0     0          3      7        1890              0   \n17     1.5           0     0          4      7        1600              0   \n18     1.0           0     0          4      7        1200              0   \n19     1.0           0     0          4      7        1250              0   \n20     1.0           0     0          4      7         860            760   \n21     1.0           0     4          3      9        2330            720   \n22     2.0           0     0          3      8        2270              0   \n23     1.0           0     0          3      7        1070              0   \n24     2.0           0     0          4      8        2450              0   \n25     1.5           0     0          5      6        1710              0   \n26     2.0           0     0          3      8        1750            700   \n27     1.5           0     0          5      8        1400              0   \n28     1.0           0     0          3      7         790            730   \n29     2.0           0     0          3      8        2570              0   \n30     2.0           0     0          3      8        2320              0   \n31     3.0           0     0          3      7        1190              0   \n32     1.5           0     0          4      7        1510            820   \n33     1.5           0     0          4      8        1090              0   \n34     1.0           0     0          3      7        1280            780   \n35     1.5           0     0          3      8        1510            790   \n36     1.0           0     0          1      5         930            730   \n37     2.0           0     0          4      8        2360              0   \n38     1.0           0     0          2      7         890            330   \n39     2.0           0     0          3      8        2620              0   \n40     2.0           0     0          3      9        2570              0   \n41     1.0           0     0          3      8        2600           1620   \n42     2.0           0     0          3      9        3595              0   \n43     2.0           0     0          3      7        1570              0   \n44     1.0           0     0          4      6         920            360   \n45     2.0           0     0          3      8        3160              0   \n46     1.0           0     0          3      6         990              0   \n47     2.0           0     0          4      9        2290              0   \n48     1.0           0     0          4      7        1250              0   \n49     1.0           1     2          5      9        2165            588   \n\n    yr_built  yr_renovated  zipcode      lat     long  sqft_living15  \\\n0       1955             0    98178  47.5112 -122.257           1340   \n1       1951          1991    98125  47.7210 -122.319           1690   \n2       1933             0    98028  47.7379 -122.233           2720   \n3       1965             0    98136  47.5208 -122.393           1360   \n4       1987             0    98074  47.6168 -122.045           1800   \n5       2001             0    98053  47.6561 -122.005           4760   \n6       1995             0    98003  47.3097 -122.327           2238   \n7       1963             0    98198  47.4095 -122.315           1650   \n8       1960             0    98146  47.5123 -122.337           1780   \n9       2003             0    98038  47.3684 -122.031           2390   \n10      1965             0    98007  47.6007 -122.145           2210   \n11      1942             0    98115  47.6900 -122.292           1330   \n12      1927             0    98028  47.7558 -122.229           1780   \n13      1977             0    98074  47.6127 -122.045           1370   \n14      1900             0    98107  47.6700 -122.394           1360   \n15      1979             0    98126  47.5714 -122.375           2140   \n16      1994             0    98019  47.7277 -121.962           1890   \n17      1916             0    98103  47.6648 -122.343           1610   \n18      1921             0    98002  47.3089 -122.210           1060   \n19      1969             0    98003  47.3343 -122.306           1280   \n20      1947             0    98133  47.7025 -122.341           1400   \n21      1968             0    98040  47.5316 -122.233           4110   \n22      1995             0    98092  47.3266 -122.169           2240   \n23      1985             0    98030  47.3533 -122.166           1220   \n24      1985             0    98030  47.3739 -122.172           2200   \n25      1941             0    98002  47.3048 -122.218           1030   \n26      1915             0    98119  47.6386 -122.360           1760   \n27      1909             0    98112  47.6221 -122.314           1860   \n28      1948             0    98115  47.6950 -122.304           1520   \n29      2005             0    98052  47.7073 -122.110           2630   \n30      2003             0    98027  47.5391 -122.070           2580   \n31      2005             0    98133  47.7274 -122.357           1390   \n32      1929             0    98117  47.6823 -122.368           1460   \n33      1929             0    98117  47.6889 -122.375           1570   \n34      1981             0    98058  47.4276 -122.157           2020   \n35      1930          2002    98115  47.6827 -122.310           1590   \n36      1933             0    98052  47.6621 -122.132           2160   \n37      1904             0    98107  47.6702 -122.362           1730   \n38      1969             0    98001  47.3341 -122.282           1290   \n39      1996             0    98056  47.5301 -122.180           2620   \n40      2000             0    98074  47.6145 -122.027           2470   \n41      1984             0    98166  47.4450 -122.347           2410   \n42      2014             0    98053  47.6848 -122.016           3625   \n43      1922             0    98119  47.6413 -122.364           1580   \n44      1959             0    98058  47.4485 -122.175           1340   \n45      2003             0    98019  47.7443 -121.977           3050   \n46      1966             0    98023  47.3066 -122.371           1228   \n47      1981             0    98007  47.6194 -122.151           2680   \n48      1953             0    98115  47.6796 -122.301            970   \n49      1953             0    98070  47.4041 -122.451           2680   \n\n    sqft_lot15  \n0         5650  \n1         7639  \n2         8062  \n3         5000  \n4         7503  \n5       101930  \n6         6819  \n7         9711  \n8         8113  \n9         7570  \n10        8925  \n11        6000  \n12       12697  \n13       10208  \n14        4850  \n15        4000  \n16       14018  \n17        4300  \n18        5095  \n19        8850  \n20        4980  \n21       20336  \n22        7005  \n23        8386  \n24        6865  \n25        4705  \n26        3573  \n27        3861  \n28        6235  \n29        6026  \n30        3980  \n31        1756  \n32        5000  \n33        5080  \n34        8720  \n35        3264  \n36       11467  \n37        4700  \n38        7800  \n39       11884  \n40        5669  \n41       30617  \n42        5639  \n43        2640  \n44        8808  \n45        9232  \n46        8840  \n47       13685  \n48        5100  \n49       72513  "
                    },
                    "execution_count": 21,
                    "metadata": {},
                    "output_type": "execute_result"
                }
            ],
            "source": "df.head(50)"
        },
        {
            "cell_type": "markdown",
            "metadata": {},
            "source": "### Question 1 \nDisplay the data types of each column using the attribute dtype, then take a screenshot and submit it, include your code in the image. "
        },
        {
            "cell_type": "code",
            "execution_count": 4,
            "metadata": {
                "jupyter": {
                    "outputs_hidden": false
                }
            },
            "outputs": [
                {
                    "data": {
                        "text/plain": "Unnamed: 0         int64\nid                 int64\ndate              object\nprice            float64\nbedrooms         float64\nbathrooms        float64\nsqft_living        int64\nsqft_lot           int64\nfloors           float64\nwaterfront         int64\nview               int64\ncondition          int64\ngrade              int64\nsqft_above         int64\nsqft_basement      int64\nyr_built           int64\nyr_renovated       int64\nzipcode            int64\nlat              float64\nlong             float64\nsqft_living15      int64\nsqft_lot15         int64\ndtype: object"
                    },
                    "execution_count": 4,
                    "metadata": {},
                    "output_type": "execute_result"
                }
            ],
            "source": "df.dtypes"
        },
        {
            "cell_type": "markdown",
            "metadata": {},
            "source": "We use the method describe to obtain a statistical summary of the dataframe."
        },
        {
            "cell_type": "code",
            "execution_count": 5,
            "metadata": {
                "jupyter": {
                    "outputs_hidden": false
                }
            },
            "outputs": [
                {
                    "data": {
                        "text/html": "<div>\n<style scoped>\n    .dataframe tbody tr th:only-of-type {\n        vertical-align: middle;\n    }\n\n    .dataframe tbody tr th {\n        vertical-align: top;\n    }\n\n    .dataframe thead th {\n        text-align: right;\n    }\n</style>\n<table border=\"1\" class=\"dataframe\">\n  <thead>\n    <tr style=\"text-align: right;\">\n      <th></th>\n      <th>Unnamed: 0</th>\n      <th>id</th>\n      <th>price</th>\n      <th>bedrooms</th>\n      <th>bathrooms</th>\n      <th>sqft_living</th>\n      <th>sqft_lot</th>\n      <th>floors</th>\n      <th>waterfront</th>\n      <th>view</th>\n      <th>...</th>\n      <th>grade</th>\n      <th>sqft_above</th>\n      <th>sqft_basement</th>\n      <th>yr_built</th>\n      <th>yr_renovated</th>\n      <th>zipcode</th>\n      <th>lat</th>\n      <th>long</th>\n      <th>sqft_living15</th>\n      <th>sqft_lot15</th>\n    </tr>\n  </thead>\n  <tbody>\n    <tr>\n      <th>count</th>\n      <td>21613.00000</td>\n      <td>2.161300e+04</td>\n      <td>2.161300e+04</td>\n      <td>21600.000000</td>\n      <td>21603.000000</td>\n      <td>21613.000000</td>\n      <td>2.161300e+04</td>\n      <td>21613.000000</td>\n      <td>21613.000000</td>\n      <td>21613.000000</td>\n      <td>...</td>\n      <td>21613.000000</td>\n      <td>21613.000000</td>\n      <td>21613.000000</td>\n      <td>21613.000000</td>\n      <td>21613.000000</td>\n      <td>21613.000000</td>\n      <td>21613.000000</td>\n      <td>21613.000000</td>\n      <td>21613.000000</td>\n      <td>21613.000000</td>\n    </tr>\n    <tr>\n      <th>mean</th>\n      <td>10806.00000</td>\n      <td>4.580302e+09</td>\n      <td>5.400881e+05</td>\n      <td>3.372870</td>\n      <td>2.115736</td>\n      <td>2079.899736</td>\n      <td>1.510697e+04</td>\n      <td>1.494309</td>\n      <td>0.007542</td>\n      <td>0.234303</td>\n      <td>...</td>\n      <td>7.656873</td>\n      <td>1788.390691</td>\n      <td>291.509045</td>\n      <td>1971.005136</td>\n      <td>84.402258</td>\n      <td>98077.939805</td>\n      <td>47.560053</td>\n      <td>-122.213896</td>\n      <td>1986.552492</td>\n      <td>12768.455652</td>\n    </tr>\n    <tr>\n      <th>std</th>\n      <td>6239.28002</td>\n      <td>2.876566e+09</td>\n      <td>3.671272e+05</td>\n      <td>0.926657</td>\n      <td>0.768996</td>\n      <td>918.440897</td>\n      <td>4.142051e+04</td>\n      <td>0.539989</td>\n      <td>0.086517</td>\n      <td>0.766318</td>\n      <td>...</td>\n      <td>1.175459</td>\n      <td>828.090978</td>\n      <td>442.575043</td>\n      <td>29.373411</td>\n      <td>401.679240</td>\n      <td>53.505026</td>\n      <td>0.138564</td>\n      <td>0.140828</td>\n      <td>685.391304</td>\n      <td>27304.179631</td>\n    </tr>\n    <tr>\n      <th>min</th>\n      <td>0.00000</td>\n      <td>1.000102e+06</td>\n      <td>7.500000e+04</td>\n      <td>1.000000</td>\n      <td>0.500000</td>\n      <td>290.000000</td>\n      <td>5.200000e+02</td>\n      <td>1.000000</td>\n      <td>0.000000</td>\n      <td>0.000000</td>\n      <td>...</td>\n      <td>1.000000</td>\n      <td>290.000000</td>\n      <td>0.000000</td>\n      <td>1900.000000</td>\n      <td>0.000000</td>\n      <td>98001.000000</td>\n      <td>47.155900</td>\n      <td>-122.519000</td>\n      <td>399.000000</td>\n      <td>651.000000</td>\n    </tr>\n    <tr>\n      <th>25%</th>\n      <td>5403.00000</td>\n      <td>2.123049e+09</td>\n      <td>3.219500e+05</td>\n      <td>3.000000</td>\n      <td>1.750000</td>\n      <td>1427.000000</td>\n      <td>5.040000e+03</td>\n      <td>1.000000</td>\n      <td>0.000000</td>\n      <td>0.000000</td>\n      <td>...</td>\n      <td>7.000000</td>\n      <td>1190.000000</td>\n      <td>0.000000</td>\n      <td>1951.000000</td>\n      <td>0.000000</td>\n      <td>98033.000000</td>\n      <td>47.471000</td>\n      <td>-122.328000</td>\n      <td>1490.000000</td>\n      <td>5100.000000</td>\n    </tr>\n    <tr>\n      <th>50%</th>\n      <td>10806.00000</td>\n      <td>3.904930e+09</td>\n      <td>4.500000e+05</td>\n      <td>3.000000</td>\n      <td>2.250000</td>\n      <td>1910.000000</td>\n      <td>7.618000e+03</td>\n      <td>1.500000</td>\n      <td>0.000000</td>\n      <td>0.000000</td>\n      <td>...</td>\n      <td>7.000000</td>\n      <td>1560.000000</td>\n      <td>0.000000</td>\n      <td>1975.000000</td>\n      <td>0.000000</td>\n      <td>98065.000000</td>\n      <td>47.571800</td>\n      <td>-122.230000</td>\n      <td>1840.000000</td>\n      <td>7620.000000</td>\n    </tr>\n    <tr>\n      <th>75%</th>\n      <td>16209.00000</td>\n      <td>7.308900e+09</td>\n      <td>6.450000e+05</td>\n      <td>4.000000</td>\n      <td>2.500000</td>\n      <td>2550.000000</td>\n      <td>1.068800e+04</td>\n      <td>2.000000</td>\n      <td>0.000000</td>\n      <td>0.000000</td>\n      <td>...</td>\n      <td>8.000000</td>\n      <td>2210.000000</td>\n      <td>560.000000</td>\n      <td>1997.000000</td>\n      <td>0.000000</td>\n      <td>98118.000000</td>\n      <td>47.678000</td>\n      <td>-122.125000</td>\n      <td>2360.000000</td>\n      <td>10083.000000</td>\n    </tr>\n    <tr>\n      <th>max</th>\n      <td>21612.00000</td>\n      <td>9.900000e+09</td>\n      <td>7.700000e+06</td>\n      <td>33.000000</td>\n      <td>8.000000</td>\n      <td>13540.000000</td>\n      <td>1.651359e+06</td>\n      <td>3.500000</td>\n      <td>1.000000</td>\n      <td>4.000000</td>\n      <td>...</td>\n      <td>13.000000</td>\n      <td>9410.000000</td>\n      <td>4820.000000</td>\n      <td>2015.000000</td>\n      <td>2015.000000</td>\n      <td>98199.000000</td>\n      <td>47.777600</td>\n      <td>-121.315000</td>\n      <td>6210.000000</td>\n      <td>871200.000000</td>\n    </tr>\n  </tbody>\n</table>\n<p>8 rows \u00d7 21 columns</p>\n</div>",
                        "text/plain": "        Unnamed: 0            id         price      bedrooms     bathrooms  \\\ncount  21613.00000  2.161300e+04  2.161300e+04  21600.000000  21603.000000   \nmean   10806.00000  4.580302e+09  5.400881e+05      3.372870      2.115736   \nstd     6239.28002  2.876566e+09  3.671272e+05      0.926657      0.768996   \nmin        0.00000  1.000102e+06  7.500000e+04      1.000000      0.500000   \n25%     5403.00000  2.123049e+09  3.219500e+05      3.000000      1.750000   \n50%    10806.00000  3.904930e+09  4.500000e+05      3.000000      2.250000   \n75%    16209.00000  7.308900e+09  6.450000e+05      4.000000      2.500000   \nmax    21612.00000  9.900000e+09  7.700000e+06     33.000000      8.000000   \n\n        sqft_living      sqft_lot        floors    waterfront          view  \\\ncount  21613.000000  2.161300e+04  21613.000000  21613.000000  21613.000000   \nmean    2079.899736  1.510697e+04      1.494309      0.007542      0.234303   \nstd      918.440897  4.142051e+04      0.539989      0.086517      0.766318   \nmin      290.000000  5.200000e+02      1.000000      0.000000      0.000000   \n25%     1427.000000  5.040000e+03      1.000000      0.000000      0.000000   \n50%     1910.000000  7.618000e+03      1.500000      0.000000      0.000000   \n75%     2550.000000  1.068800e+04      2.000000      0.000000      0.000000   \nmax    13540.000000  1.651359e+06      3.500000      1.000000      4.000000   \n\n       ...         grade    sqft_above  sqft_basement      yr_built  \\\ncount  ...  21613.000000  21613.000000   21613.000000  21613.000000   \nmean   ...      7.656873   1788.390691     291.509045   1971.005136   \nstd    ...      1.175459    828.090978     442.575043     29.373411   \nmin    ...      1.000000    290.000000       0.000000   1900.000000   \n25%    ...      7.000000   1190.000000       0.000000   1951.000000   \n50%    ...      7.000000   1560.000000       0.000000   1975.000000   \n75%    ...      8.000000   2210.000000     560.000000   1997.000000   \nmax    ...     13.000000   9410.000000    4820.000000   2015.000000   \n\n       yr_renovated       zipcode           lat          long  sqft_living15  \\\ncount  21613.000000  21613.000000  21613.000000  21613.000000   21613.000000   \nmean      84.402258  98077.939805     47.560053   -122.213896    1986.552492   \nstd      401.679240     53.505026      0.138564      0.140828     685.391304   \nmin        0.000000  98001.000000     47.155900   -122.519000     399.000000   \n25%        0.000000  98033.000000     47.471000   -122.328000    1490.000000   \n50%        0.000000  98065.000000     47.571800   -122.230000    1840.000000   \n75%        0.000000  98118.000000     47.678000   -122.125000    2360.000000   \nmax     2015.000000  98199.000000     47.777600   -121.315000    6210.000000   \n\n          sqft_lot15  \ncount   21613.000000  \nmean    12768.455652  \nstd     27304.179631  \nmin       651.000000  \n25%      5100.000000  \n50%      7620.000000  \n75%     10083.000000  \nmax    871200.000000  \n\n[8 rows x 21 columns]"
                    },
                    "execution_count": 5,
                    "metadata": {},
                    "output_type": "execute_result"
                }
            ],
            "source": "df.describe()"
        },
        {
            "cell_type": "markdown",
            "metadata": {},
            "source": "# Module 2: Data Wrangling"
        },
        {
            "cell_type": "markdown",
            "metadata": {},
            "source": "### Question 2 \nDrop the columns <code>\"id\"</code>  and <code>\"Unnamed: 0\"</code> from axis 1 using the method <code>drop()</code>, then use the method <code>describe()</code> to obtain a statistical summary of the data. Take a screenshot and submit it, make sure the <code>inplace</code> parameter is set to <code>True</code>"
        },
        {
            "cell_type": "code",
            "execution_count": 10,
            "metadata": {
                "jupyter": {
                    "outputs_hidden": false
                }
            },
            "outputs": [
                {
                    "data": {
                        "text/html": "<div>\n<style scoped>\n    .dataframe tbody tr th:only-of-type {\n        vertical-align: middle;\n    }\n\n    .dataframe tbody tr th {\n        vertical-align: top;\n    }\n\n    .dataframe thead th {\n        text-align: right;\n    }\n</style>\n<table border=\"1\" class=\"dataframe\">\n  <thead>\n    <tr style=\"text-align: right;\">\n      <th></th>\n      <th>price</th>\n      <th>bedrooms</th>\n      <th>bathrooms</th>\n      <th>sqft_living</th>\n      <th>sqft_lot</th>\n      <th>floors</th>\n      <th>waterfront</th>\n      <th>view</th>\n      <th>condition</th>\n      <th>grade</th>\n      <th>sqft_above</th>\n      <th>sqft_basement</th>\n      <th>yr_built</th>\n      <th>yr_renovated</th>\n      <th>zipcode</th>\n      <th>lat</th>\n      <th>long</th>\n      <th>sqft_living15</th>\n      <th>sqft_lot15</th>\n    </tr>\n  </thead>\n  <tbody>\n    <tr>\n      <th>count</th>\n      <td>2.161300e+04</td>\n      <td>21600.000000</td>\n      <td>21603.000000</td>\n      <td>21613.000000</td>\n      <td>2.161300e+04</td>\n      <td>21613.000000</td>\n      <td>21613.000000</td>\n      <td>21613.000000</td>\n      <td>21613.000000</td>\n      <td>21613.000000</td>\n      <td>21613.000000</td>\n      <td>21613.000000</td>\n      <td>21613.000000</td>\n      <td>21613.000000</td>\n      <td>21613.000000</td>\n      <td>21613.000000</td>\n      <td>21613.000000</td>\n      <td>21613.000000</td>\n      <td>21613.000000</td>\n    </tr>\n    <tr>\n      <th>mean</th>\n      <td>5.400881e+05</td>\n      <td>3.372870</td>\n      <td>2.115736</td>\n      <td>2079.899736</td>\n      <td>1.510697e+04</td>\n      <td>1.494309</td>\n      <td>0.007542</td>\n      <td>0.234303</td>\n      <td>3.409430</td>\n      <td>7.656873</td>\n      <td>1788.390691</td>\n      <td>291.509045</td>\n      <td>1971.005136</td>\n      <td>84.402258</td>\n      <td>98077.939805</td>\n      <td>47.560053</td>\n      <td>-122.213896</td>\n      <td>1986.552492</td>\n      <td>12768.455652</td>\n    </tr>\n    <tr>\n      <th>std</th>\n      <td>3.671272e+05</td>\n      <td>0.926657</td>\n      <td>0.768996</td>\n      <td>918.440897</td>\n      <td>4.142051e+04</td>\n      <td>0.539989</td>\n      <td>0.086517</td>\n      <td>0.766318</td>\n      <td>0.650743</td>\n      <td>1.175459</td>\n      <td>828.090978</td>\n      <td>442.575043</td>\n      <td>29.373411</td>\n      <td>401.679240</td>\n      <td>53.505026</td>\n      <td>0.138564</td>\n      <td>0.140828</td>\n      <td>685.391304</td>\n      <td>27304.179631</td>\n    </tr>\n    <tr>\n      <th>min</th>\n      <td>7.500000e+04</td>\n      <td>1.000000</td>\n      <td>0.500000</td>\n      <td>290.000000</td>\n      <td>5.200000e+02</td>\n      <td>1.000000</td>\n      <td>0.000000</td>\n      <td>0.000000</td>\n      <td>1.000000</td>\n      <td>1.000000</td>\n      <td>290.000000</td>\n      <td>0.000000</td>\n      <td>1900.000000</td>\n      <td>0.000000</td>\n      <td>98001.000000</td>\n      <td>47.155900</td>\n      <td>-122.519000</td>\n      <td>399.000000</td>\n      <td>651.000000</td>\n    </tr>\n    <tr>\n      <th>25%</th>\n      <td>3.219500e+05</td>\n      <td>3.000000</td>\n      <td>1.750000</td>\n      <td>1427.000000</td>\n      <td>5.040000e+03</td>\n      <td>1.000000</td>\n      <td>0.000000</td>\n      <td>0.000000</td>\n      <td>3.000000</td>\n      <td>7.000000</td>\n      <td>1190.000000</td>\n      <td>0.000000</td>\n      <td>1951.000000</td>\n      <td>0.000000</td>\n      <td>98033.000000</td>\n      <td>47.471000</td>\n      <td>-122.328000</td>\n      <td>1490.000000</td>\n      <td>5100.000000</td>\n    </tr>\n    <tr>\n      <th>50%</th>\n      <td>4.500000e+05</td>\n      <td>3.000000</td>\n      <td>2.250000</td>\n      <td>1910.000000</td>\n      <td>7.618000e+03</td>\n      <td>1.500000</td>\n      <td>0.000000</td>\n      <td>0.000000</td>\n      <td>3.000000</td>\n      <td>7.000000</td>\n      <td>1560.000000</td>\n      <td>0.000000</td>\n      <td>1975.000000</td>\n      <td>0.000000</td>\n      <td>98065.000000</td>\n      <td>47.571800</td>\n      <td>-122.230000</td>\n      <td>1840.000000</td>\n      <td>7620.000000</td>\n    </tr>\n    <tr>\n      <th>75%</th>\n      <td>6.450000e+05</td>\n      <td>4.000000</td>\n      <td>2.500000</td>\n      <td>2550.000000</td>\n      <td>1.068800e+04</td>\n      <td>2.000000</td>\n      <td>0.000000</td>\n      <td>0.000000</td>\n      <td>4.000000</td>\n      <td>8.000000</td>\n      <td>2210.000000</td>\n      <td>560.000000</td>\n      <td>1997.000000</td>\n      <td>0.000000</td>\n      <td>98118.000000</td>\n      <td>47.678000</td>\n      <td>-122.125000</td>\n      <td>2360.000000</td>\n      <td>10083.000000</td>\n    </tr>\n    <tr>\n      <th>max</th>\n      <td>7.700000e+06</td>\n      <td>33.000000</td>\n      <td>8.000000</td>\n      <td>13540.000000</td>\n      <td>1.651359e+06</td>\n      <td>3.500000</td>\n      <td>1.000000</td>\n      <td>4.000000</td>\n      <td>5.000000</td>\n      <td>13.000000</td>\n      <td>9410.000000</td>\n      <td>4820.000000</td>\n      <td>2015.000000</td>\n      <td>2015.000000</td>\n      <td>98199.000000</td>\n      <td>47.777600</td>\n      <td>-121.315000</td>\n      <td>6210.000000</td>\n      <td>871200.000000</td>\n    </tr>\n  </tbody>\n</table>\n</div>",
                        "text/plain": "              price      bedrooms     bathrooms   sqft_living      sqft_lot  \\\ncount  2.161300e+04  21600.000000  21603.000000  21613.000000  2.161300e+04   \nmean   5.400881e+05      3.372870      2.115736   2079.899736  1.510697e+04   \nstd    3.671272e+05      0.926657      0.768996    918.440897  4.142051e+04   \nmin    7.500000e+04      1.000000      0.500000    290.000000  5.200000e+02   \n25%    3.219500e+05      3.000000      1.750000   1427.000000  5.040000e+03   \n50%    4.500000e+05      3.000000      2.250000   1910.000000  7.618000e+03   \n75%    6.450000e+05      4.000000      2.500000   2550.000000  1.068800e+04   \nmax    7.700000e+06     33.000000      8.000000  13540.000000  1.651359e+06   \n\n             floors    waterfront          view     condition         grade  \\\ncount  21613.000000  21613.000000  21613.000000  21613.000000  21613.000000   \nmean       1.494309      0.007542      0.234303      3.409430      7.656873   \nstd        0.539989      0.086517      0.766318      0.650743      1.175459   \nmin        1.000000      0.000000      0.000000      1.000000      1.000000   \n25%        1.000000      0.000000      0.000000      3.000000      7.000000   \n50%        1.500000      0.000000      0.000000      3.000000      7.000000   \n75%        2.000000      0.000000      0.000000      4.000000      8.000000   \nmax        3.500000      1.000000      4.000000      5.000000     13.000000   \n\n         sqft_above  sqft_basement      yr_built  yr_renovated       zipcode  \\\ncount  21613.000000   21613.000000  21613.000000  21613.000000  21613.000000   \nmean    1788.390691     291.509045   1971.005136     84.402258  98077.939805   \nstd      828.090978     442.575043     29.373411    401.679240     53.505026   \nmin      290.000000       0.000000   1900.000000      0.000000  98001.000000   \n25%     1190.000000       0.000000   1951.000000      0.000000  98033.000000   \n50%     1560.000000       0.000000   1975.000000      0.000000  98065.000000   \n75%     2210.000000     560.000000   1997.000000      0.000000  98118.000000   \nmax     9410.000000    4820.000000   2015.000000   2015.000000  98199.000000   \n\n                lat          long  sqft_living15     sqft_lot15  \ncount  21613.000000  21613.000000   21613.000000   21613.000000  \nmean      47.560053   -122.213896    1986.552492   12768.455652  \nstd        0.138564      0.140828     685.391304   27304.179631  \nmin       47.155900   -122.519000     399.000000     651.000000  \n25%       47.471000   -122.328000    1490.000000    5100.000000  \n50%       47.571800   -122.230000    1840.000000    7620.000000  \n75%       47.678000   -122.125000    2360.000000   10083.000000  \nmax       47.777600   -121.315000    6210.000000  871200.000000  "
                    },
                    "execution_count": 10,
                    "metadata": {},
                    "output_type": "execute_result"
                }
            ],
            "source": "df.drop([\"id\", \"Unnamed: 0\"], axis=1, inplace= True)\ndf.describe()"
        },
        {
            "cell_type": "markdown",
            "metadata": {},
            "source": "We can see we have missing values for the columns <code> bedrooms</code>  and <code> bathrooms </code>"
        },
        {
            "cell_type": "code",
            "execution_count": 14,
            "metadata": {
                "jupyter": {
                    "outputs_hidden": false
                }
            },
            "outputs": [
                {
                    "name": "stdout",
                    "output_type": "stream",
                    "text": "number of NaN values for the column bedrooms : 13\nnumber of NaN values for the column bathrooms : 10\n"
                }
            ],
            "source": "print(\"number of NaN values for the column bedrooms :\", df['bedrooms'].isnull().sum())\nprint(\"number of NaN values for the column bathrooms :\", df['bathrooms'].isnull().sum())\n"
        },
        {
            "cell_type": "markdown",
            "metadata": {},
            "source": "\nWe can replace the missing values of the column <code>'bedrooms'</code> with the mean of the column  <code>'bedrooms' </code> using the method <code>replace()</code>. Don't forget to set the <code>inplace</code> parameter to <code>True</code>"
        },
        {
            "cell_type": "code",
            "execution_count": 15,
            "metadata": {},
            "outputs": [],
            "source": "mean=df['bedrooms'].mean()\ndf['bedrooms'].replace(np.nan,mean, inplace=True)"
        },
        {
            "cell_type": "markdown",
            "metadata": {},
            "source": "\nWe also replace the missing values of the column <code>'bathrooms'</code> with the mean of the column  <code>'bathrooms' </code> using the method <code>replace()</code>. Don't forget to set the <code> inplace </code>  parameter top <code> True </code>"
        },
        {
            "cell_type": "code",
            "execution_count": 16,
            "metadata": {},
            "outputs": [],
            "source": "mean=df['bathrooms'].mean()\ndf['bathrooms'].replace(np.nan,mean, inplace=True)"
        },
        {
            "cell_type": "code",
            "execution_count": 17,
            "metadata": {
                "jupyter": {
                    "outputs_hidden": false
                }
            },
            "outputs": [
                {
                    "name": "stdout",
                    "output_type": "stream",
                    "text": "number of NaN values for the column bedrooms : 0\nnumber of NaN values for the column bathrooms : 0\n"
                }
            ],
            "source": "print(\"number of NaN values for the column bedrooms :\", df['bedrooms'].isnull().sum())\nprint(\"number of NaN values for the column bathrooms :\", df['bathrooms'].isnull().sum())"
        },
        {
            "cell_type": "markdown",
            "metadata": {},
            "source": "# Module 3: Exploratory Data Analysis"
        },
        {
            "cell_type": "markdown",
            "metadata": {},
            "source": "### Question 3\nUse the method <code>value_counts</code> to count the number of houses with unique floor values, use the method <code>.to_frame()</code> to convert it to a dataframe.\n"
        },
        {
            "cell_type": "code",
            "execution_count": 20,
            "metadata": {
                "jupyter": {
                    "outputs_hidden": false
                }
            },
            "outputs": [
                {
                    "data": {
                        "text/html": "<div>\n<style scoped>\n    .dataframe tbody tr th:only-of-type {\n        vertical-align: middle;\n    }\n\n    .dataframe tbody tr th {\n        vertical-align: top;\n    }\n\n    .dataframe thead th {\n        text-align: right;\n    }\n</style>\n<table border=\"1\" class=\"dataframe\">\n  <thead>\n    <tr style=\"text-align: right;\">\n      <th></th>\n      <th>value_counts</th>\n    </tr>\n  </thead>\n  <tbody>\n    <tr>\n      <th>1.0</th>\n      <td>10680</td>\n    </tr>\n    <tr>\n      <th>2.0</th>\n      <td>8241</td>\n    </tr>\n    <tr>\n      <th>1.5</th>\n      <td>1910</td>\n    </tr>\n    <tr>\n      <th>3.0</th>\n      <td>613</td>\n    </tr>\n    <tr>\n      <th>2.5</th>\n      <td>161</td>\n    </tr>\n    <tr>\n      <th>3.5</th>\n      <td>8</td>\n    </tr>\n  </tbody>\n</table>\n</div>",
                        "text/plain": "     value_counts\n1.0         10680\n2.0          8241\n1.5          1910\n3.0           613\n2.5           161\n3.5             8"
                    },
                    "execution_count": 20,
                    "metadata": {},
                    "output_type": "execute_result"
                }
            ],
            "source": "floor_value=df[\"floors\"].value_counts().to_frame()\nfloor_value.rename(columns={\"floors\": \"value_counts\"}, inplace= True)\n\nfloor_value\n"
        },
        {
            "cell_type": "markdown",
            "metadata": {},
            "source": "### Question 4\nUse the function <code>boxplot</code> in the seaborn library  to  determine whether houses with a waterfront view or without a waterfront view have more price outliers."
        },
        {
            "cell_type": "code",
            "execution_count": 25,
            "metadata": {
                "jupyter": {
                    "outputs_hidden": false
                }
            },
            "outputs": [
                {
                    "data": {
                        "text/plain": "<matplotlib.axes._subplots.AxesSubplot at 0x7fed0f22f6d0>"
                    },
                    "execution_count": 25,
                    "metadata": {},
                    "output_type": "execute_result"
                },
                {
                    "data": {
                        "image/png": "[encoded data removed]",
                        "text/plain": "<Figure size 432x288 with 1 Axes>"
                    },
                    "metadata": {
                        "needs_background": "light"
                    },
                    "output_type": "display_data"
                }
            ],
            "source": "sns.boxplot(x=\"waterfront\", y=\"price\", data=df)"
        },
        {
            "cell_type": "markdown",
            "metadata": {},
            "source": "### Question 5\nUse the function <code>regplot</code>  in the seaborn library  to  determine if the feature <code>sqft_above</code> is negatively or positively correlated with price."
        },
        {
            "cell_type": "code",
            "execution_count": 26,
            "metadata": {
                "jupyter": {
                    "outputs_hidden": false
                }
            },
            "outputs": [
                {
                    "data": {
                        "text/plain": "(0.0, 8081250.0)"
                    },
                    "execution_count": 26,
                    "metadata": {},
                    "output_type": "execute_result"
                },
                {
                    "data": {
                        "image/png": "[encoded data removed]",
                        "text/plain": "<Figure size 432x288 with 1 Axes>"
                    },
                    "metadata": {
                        "needs_background": "light"
                    },
                    "output_type": "display_data"
                }
            ],
            "source": "sns.regplot(x=\"sqft_above\", y=\"price\", data=df)\nplt.ylim(0)"
        },
        {
            "cell_type": "markdown",
            "metadata": {},
            "source": "\nWe can use the Pandas method <code>corr()</code>  to find the feature other than price that is most correlated with price."
        },
        {
            "cell_type": "code",
            "execution_count": 27,
            "metadata": {
                "jupyter": {
                    "outputs_hidden": false
                }
            },
            "outputs": [
                {
                    "data": {
                        "text/plain": "zipcode         -0.053203\nlong             0.021626\ncondition        0.036362\nyr_built         0.054012\nsqft_lot15       0.082447\nsqft_lot         0.089661\nyr_renovated     0.126434\nfloors           0.256794\nwaterfront       0.266369\nlat              0.307003\nbedrooms         0.308797\nsqft_basement    0.323816\nview             0.397293\nbathrooms        0.525738\nsqft_living15    0.585379\nsqft_above       0.605567\ngrade            0.667434\nsqft_living      0.702035\nprice            1.000000\nName: price, dtype: float64"
                    },
                    "execution_count": 27,
                    "metadata": {},
                    "output_type": "execute_result"
                }
            ],
            "source": "df.corr()['price'].sort_values()"
        },
        {
            "cell_type": "markdown",
            "metadata": {},
            "source": "# Module 4: Model Development"
        },
        {
            "cell_type": "markdown",
            "metadata": {},
            "source": "\nWe can Fit a linear regression model using the  longitude feature <code>'long'</code> and  caculate the R^2."
        },
        {
            "cell_type": "code",
            "execution_count": 28,
            "metadata": {
                "jupyter": {
                    "outputs_hidden": false
                }
            },
            "outputs": [
                {
                    "data": {
                        "text/plain": "0.00046769430149007363"
                    },
                    "execution_count": 28,
                    "metadata": {},
                    "output_type": "execute_result"
                }
            ],
            "source": "X = df[['long']]\nY = df['price']\nlm = LinearRegression()\nlm.fit(X,Y)\nlm.score(X, Y)"
        },
        {
            "cell_type": "markdown",
            "metadata": {},
            "source": "### Question  6\nFit a linear regression model to predict the <code>'price'</code> using the feature <code>'sqft_living'</code> then calculate the R^2. Take a screenshot of your code and the value of the R^2."
        },
        {
            "cell_type": "code",
            "execution_count": 29,
            "metadata": {
                "jupyter": {
                    "outputs_hidden": false
                }
            },
            "outputs": [
                {
                    "data": {
                        "text/plain": "0.4928532179037931"
                    },
                    "execution_count": 29,
                    "metadata": {},
                    "output_type": "execute_result"
                }
            ],
            "source": "X=df[['sqft_living']]\nY=df[\"price\"]\nlm = LinearRegression()\nlm.fit(X,Y)\nlm.score(X,Y)"
        },
        {
            "cell_type": "markdown",
            "metadata": {},
            "source": "### Question 7\nFit a linear regression model to predict the <code>'price'</code> using the list of features:"
        },
        {
            "cell_type": "code",
            "execution_count": 40,
            "metadata": {},
            "outputs": [],
            "source": "features =[\"floors\", \"waterfront\",\"lat\" ,\"bedrooms\" ,\"sqft_basement\" ,\"view\" ,\"bathrooms\",\"sqft_living15\",\"sqft_above\",\"grade\",\"sqft_living\"]    "
        },
        {
            "cell_type": "markdown",
            "metadata": {},
            "source": "Then calculate the R^2. Take a screenshot of your code."
        },
        {
            "cell_type": "code",
            "execution_count": 50,
            "metadata": {
                "jupyter": {
                    "outputs_hidden": false
                }
            },
            "outputs": [
                {
                    "data": {
                        "text/plain": "0.657679183672129"
                    },
                    "execution_count": 50,
                    "metadata": {},
                    "output_type": "execute_result"
                }
            ],
            "source": "Z=df[features]\nlm.fit(Z, df[\"price\"])\nlm.score(Z, df['price'])\n"
        },
        {
            "cell_type": "markdown",
            "metadata": {},
            "source": "### This will help with Question 8\n\nCreate a list of tuples, the first element in the tuple contains the name of the estimator:\n\n<code>'scale'</code>\n\n<code>'polynomial'</code>\n\n<code>'model'</code>\n\nThe second element in the tuple  contains the model constructor \n\n<code>StandardScaler()</code>\n\n<code>PolynomialFeatures(include_bias=False)</code>\n\n<code>LinearRegression()</code>\n"
        },
        {
            "cell_type": "code",
            "execution_count": 51,
            "metadata": {},
            "outputs": [],
            "source": "Input=[('scale',StandardScaler()),('polynomial', PolynomialFeatures(include_bias=False)),('model',LinearRegression())]"
        },
        {
            "cell_type": "markdown",
            "metadata": {},
            "source": "### Question 8\nUse the list to create a pipeline object to predict the 'price', fit the object using the features in the list <code>features</code>, and calculate the R^2."
        },
        {
            "cell_type": "code",
            "execution_count": 53,
            "metadata": {
                "jupyter": {
                    "outputs_hidden": false
                }
            },
            "outputs": [
                {
                    "data": {
                        "text/plain": "0.7513408553309376"
                    },
                    "execution_count": 53,
                    "metadata": {},
                    "output_type": "execute_result"
                }
            ],
            "source": "Z= df[features]  \npipe=Pipeline(Input)\npipe.fit(Z, df['price'])\npipe.score(Z, df['price'])"
        },
        {
            "cell_type": "markdown",
            "metadata": {},
            "source": "# Module 5: Model Evaluation and Refinement"
        },
        {
            "cell_type": "markdown",
            "metadata": {},
            "source": "Import the necessary modules:"
        },
        {
            "cell_type": "code",
            "execution_count": 49,
            "metadata": {
                "jupyter": {
                    "outputs_hidden": false
                }
            },
            "outputs": [
                {
                    "name": "stdout",
                    "output_type": "stream",
                    "text": "done\n"
                }
            ],
            "source": "from sklearn.model_selection import cross_val_score\nfrom sklearn.model_selection import train_test_split\nprint(\"done\")"
        },
        {
            "cell_type": "markdown",
            "metadata": {},
            "source": "We will split the data into training and testing sets:"
        },
        {
            "cell_type": "code",
            "execution_count": 54,
            "metadata": {
                "jupyter": {
                    "outputs_hidden": false
                }
            },
            "outputs": [
                {
                    "name": "stdout",
                    "output_type": "stream",
                    "text": "number of test samples: 3242\nnumber of training samples: 18371\n"
                }
            ],
            "source": "features =[\"floors\", \"waterfront\",\"lat\" ,\"bedrooms\" ,\"sqft_basement\" ,\"view\" ,\"bathrooms\",\"sqft_living15\",\"sqft_above\",\"grade\",\"sqft_living\"]    \nX = df[features]\nY = df['price']\n\nx_train, x_test, y_train, y_test = train_test_split(X, Y, test_size=0.15, random_state=1)\n\n\nprint(\"number of test samples:\", x_test.shape[0])\nprint(\"number of training samples:\",x_train.shape[0])"
        },
        {
            "cell_type": "markdown",
            "metadata": {},
            "source": "### Question 9\nCreate and fit a Ridge regression object using the training data, set the regularization parameter to 0.1, and calculate the R^2 using the test data. \n"
        },
        {
            "cell_type": "code",
            "execution_count": 56,
            "metadata": {},
            "outputs": [],
            "source": "from sklearn.linear_model import Ridge"
        },
        {
            "cell_type": "code",
            "execution_count": 57,
            "metadata": {
                "jupyter": {
                    "outputs_hidden": false
                }
            },
            "outputs": [
                {
                    "data": {
                        "text/plain": "0.6576951534165594"
                    },
                    "execution_count": 57,
                    "metadata": {},
                    "output_type": "execute_result"
                }
            ],
            "source": "RidgeModel = Ridge(alpha=0.1)\nRidgeModel.fit(X,Y)\nRidgeModel.score(X,Y)"
        },
        {
            "cell_type": "markdown",
            "metadata": {},
            "source": "### Question 10\nPerform a second order polynomial transform on both the training data and testing data. Create and fit a Ridge regression object using the training data, set the regularisation parameter to 0.1, and calculate the R^2 utilising the test data provided. Take a screenshot of your code and the R^2."
        },
        {
            "cell_type": "code",
            "execution_count": 59,
            "metadata": {
                "jupyter": {
                    "outputs_hidden": false
                }
            },
            "outputs": [
                {
                    "data": {
                        "text/plain": "0.7002744279896707"
                    },
                    "execution_count": 59,
                    "metadata": {},
                    "output_type": "execute_result"
                }
            ],
            "source": "pr=PolynomialFeatures(degree=2)\nx_train_pr=pr.fit_transform(x_train)\nx_test_pr=pr.fit_transform(x_test)\nRidgeModel = Ridge(alpha=0.1)\nRidgeModel.fit(x_train_pr,y_train)\nRidgeModel.score(x_test_pr,y_test)\n"
        },
        {
            "cell_type": "markdown",
            "metadata": {},
            "source": "<p>Once you complete your notebook you will have to share it. Select the icon on the top right a marked in red in the image below, a dialogue box should open, and select the option all&nbsp;content excluding sensitive code cells.</p>\n        <p><img width=\"600\" src=\"https://s3-api.us-geo.objectstorage.softlayer.net/cf-courses-data/CognitiveClass/DA0101EN/coursera/project/save_notebook.png\" alt=\"share notebook\"  style=\"display: block; margin-left: auto; margin-right: auto;\"/></p>\n        <p></p>\n        <p>You can then share the notebook&nbsp; via a&nbsp; URL by scrolling down as shown in the following image:</p>\n        <p style=\"text-align: center;\"><img width=\"600\"  src=\"https://s3-api.us-geo.objectstorage.softlayer.net/cf-courses-data/CognitiveClass/DA0101EN/coursera/project/url_notebook.png\" alt=\"HTML\" style=\"display: block; margin-left: auto; margin-right: auto;\" /></p>\n        <p>&nbsp;</p>"
        },
        {
            "cell_type": "markdown",
            "metadata": {},
            "source": "<h2>About the Authors:</h2> \n\n<a href=\"https://www.linkedin.com/in/joseph-s-50398b136/\">Joseph Santarcangelo</a> has a PhD in Electrical Engineering, his research focused on using machine learning, signal processing, and computer vision to determine how videos impact human cognition. Joseph has been working for IBM since he completed his PhD."
        },
        {
            "cell_type": "markdown",
            "metadata": {},
            "source": "Other contributors: <a href=\"https://www.linkedin.com/in/michelleccarey/\">Michelle Carey</a>, <a href=\"www.linkedin.com/in/jiahui-mavis-zhou-a4537814a\">Mavis Zhou</a> "
        },
        {
            "cell_type": "code",
            "execution_count": null,
            "metadata": {},
            "outputs": [],
            "source": ""
        }
    ],
    "metadata": {
        "kernelspec": {
            "display_name": "Python 3.7",
            "language": "python",
            "name": "python3"
        },
        "language_info": {
            "codemirror_mode": {
                "name": "ipython",
                "version": 3
            },
            "file_extension": ".py",
            "mimetype": "text/x-python",
            "name": "python",
            "nbconvert_exporter": "python",
            "pygments_lexer": "ipython3",
            "version": "3.7.9"
        },
        "widgets": {
            "state": {},
            "version": "1.1.2"
        }
    },
    "nbformat": 4,
    "nbformat_minor": 4
}